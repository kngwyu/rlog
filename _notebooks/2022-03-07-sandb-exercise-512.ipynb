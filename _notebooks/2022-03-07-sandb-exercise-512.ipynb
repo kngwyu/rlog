{
 "cells": [
  {
   "cell_type": "markdown",
   "id": "cc261403-a701-441d-9664-c925f22fe645",
   "metadata": {},
   "source": [
    "# Exercise 5.12: Racetrack from the Reinforcement Learning textbook\n",
    "\n",
    "- toc: true \n",
    "- badges: true\n",
    "- comments: true\n",
    "- categories: [ja]"
   ]
  },
  {
   "cell_type": "markdown",
   "id": "8b59e4e8-5171-49f1-a7b9-286bfe32fbbb",
   "metadata": {},
   "source": [
    "Here I demonstrate the execise 5.12 of the textbook [Reinforcement Learning: An Introduction](http://incompleteideas.net/book/the-book.html) by Richard Sutton and Andrew G. Barto, using both of planning method and Monte Carlo method.\n",
    "Basic knowledge of Python (>= 3.7) and [NumPy](https://numpy.org/) are assumed.\n",
    "Some konwledge of [matplotlib](https://matplotlib.org/) and [Python typing library](https://docs.python.org/3/library/typing.html) also helps.\n",
    "\n",
    "Contact: `yuji.kanagawa@oist.jp`\n",
    "\n",
    "## Modeling the problem in code\n",
    "\n",
    "Let's start from writing the problem in code.\n",
    "What are important in this phase?\n",
    "Here, I'd like to emphasize the importantness of looking back at the definition of the environment.\n",
    "I.e., in reinforcement learning (RL), environments are modelled by Markov decision process (MDP), consisting of **states, actions, transition function, and reward function**.\n",
    "So first let's check the definition of **states** and **actions** in the problem statement.\n",
    "It's (somehow) not very straightforward, but we can find\n",
    "> In our simplified racetrack, the car is at one of a discrete set of grid positions, the cells in the diagram. The velocity is also discrete, a number of grid cells moved horizontally and vertically per time step.\n",
    "\n",
    "So, a state consists of **position** and **velocity** of the car (a.k.a. agent).\n",
    "What about actions?\n",
    "\n",
    "> The actions are increments to the velocity components. Each may be changed by +1, −1, or 0 in each step, for a total of nine ($3 \\times 3$) actions.\n",
    "\n",
    "So there are 9 actions for each direction (↓↙←↖↑↗→↘ or no acceleration).\n",
    "Here, we can also notice that the total number of states is given by $\\textrm{Num. positions} \\times \\textrm{Num. choices of velocity}$.\n",
    "And the texbook also says\n",
    "> Both velocity components are restricted to be nonnegative and less than 5, and they cannot both be zero except at the starting line.\n",
    "\n",
    "So there are 24 possible velocity at the non-starting positions:"
   ]
  },
  {
   "cell_type": "code",
   "execution_count": 1,
   "id": "4e536d05-5cbf-4bca-8c91-d5a6631861b0",
   "metadata": {},
   "outputs": [
    {
     "data": {
      "text/plain": [
       "[(0, 1),\n",
       " (0, 2),\n",
       " (0, 3),\n",
       " (0, 4),\n",
       " (1, 0),\n",
       " (1, 1),\n",
       " (1, 2),\n",
       " (1, 3),\n",
       " (1, 4),\n",
       " (2, 0),\n",
       " (2, 1),\n",
       " (2, 2),\n",
       " (2, 3),\n",
       " (2, 4),\n",
       " (3, 0),\n",
       " (3, 1),\n",
       " (3, 2),\n",
       " (3, 3),\n",
       " (3, 4),\n",
       " (4, 0),\n",
       " (4, 1),\n",
       " (4, 2),\n",
       " (4, 3),\n",
       " (4, 4)]"
      ]
     },
     "execution_count": 1,
     "metadata": {},
     "output_type": "execute_result"
    }
   ],
   "source": [
    "import itertools\n",
    "list(itertools.product(range(5), range(5)))[1:]"
   ]
  },
  {
   "cell_type": "markdown",
   "id": "f572b5d5-9f6f-4726-b54e-650de0e01c05",
   "metadata": {},
   "source": [
    "Again, number of states is given by (roughly) $24 \\times \\textrm{Num. positions}$ and number of actions is $9$.\n",
    "Sounds not very easy problem with many positions.\n",
    "\n",
    "So, let's start the coding from representing the state and actions.\n",
    "There are multiple ways, but I prefer to NumPy array for representing everything.\n",
    "\n",
    "Let's consider a ASCII representation of the map (or track) like this:"
   ]
  },
  {
   "cell_type": "code",
   "execution_count": 106,
   "id": "cfb3612e-1918-4fa9-a066-fba8e92515c6",
   "metadata": {},
   "outputs": [],
   "source": [
    "SMALL_TRACK = \"\"\"\n",
    "######   F\n",
    "###      F\n",
    "##      ##\n",
    "#      ###\n",
    "#SSSSS####\n",
    "\"\"\""
   ]
  },
  {
   "cell_type": "markdown",
   "id": "d2575ca6-d9fd-487a-9ffb-ab55c4cb82ec",
   "metadata": {},
   "source": [
    "Here, `S` denotes a starting positiona, `F` denotes a finishing position, `#` denotes a wall, and ` ` denotes a road.\n",
    "We have this track as a 2D NumPy Array, and encode agent's position as an index of this array."
   ]
  },
  {
   "cell_type": "code",
   "execution_count": 107,
   "id": "49c92d83-3948-475d-a8ca-156a210f05ab",
   "metadata": {},
   "outputs": [
    {
     "name": "stdout",
     "output_type": "stream",
     "text": [
      "[[35 35 35 35 35 35 32 32 32 70]\n",
      " [35 35 35 32 32 32 32 32 32 70]\n",
      " [35 35 32 32 32 32 32 32 35 35]\n",
      " [35 32 32 32 32 32 32 35 35 35]\n",
      " [35 83 83 83 83 83 35 35 35 35]]\n"
     ]
    },
    {
     "data": {
      "text/plain": [
       "True"
      ]
     },
     "execution_count": 107,
     "metadata": {},
     "output_type": "execute_result"
    }
   ],
   "source": [
    "import numpy as np\n",
    "\n",
    "def ascii_to_array(ascii_track: str) -> np.ndarray:\n",
    "    lines = [line for line in ascii_track.split(\"\\n\") if len(line) > 0]\n",
    "    byte_lines = [list(bytes(line, encoding=\"utf-8\")) for line in lines]\n",
    "    return np.array(byte_lines, dtype=np.uint8)\n",
    "\n",
    "track = ascii_to_array(SMALL_TRACK)\n",
    "print(track)\n",
    "position = np.array([0, 0])\n",
    "track[tuple(position)] == int.from_bytes(b'#', \"big\")"
   ]
  },
  {
   "cell_type": "markdown",
   "id": "20792c21-6c6b-4066-9132-80ba61c3e04b",
   "metadata": {},
   "source": [
    "Then, agent's velocity and acceleration are also naturally represented by an array.\n",
    "And, we represent an action as an index of an array consisting of all possible acceleration vetors:"
   ]
  },
  {
   "cell_type": "code",
   "execution_count": 108,
   "id": "8de3683e-95cb-48b7-b08a-3cfc20e4745d",
   "metadata": {},
   "outputs": [
    {
     "data": {
      "text/plain": [
       "array([[-1, -1],\n",
       "       [-1,  0],\n",
       "       [-1,  1],\n",
       "       [ 0, -1],\n",
       "       [ 0,  0],\n",
       "       [ 0,  1],\n",
       "       [ 1, -1],\n",
       "       [ 1,  0],\n",
       "       [ 1,  1]])"
      ]
     },
     "execution_count": 108,
     "metadata": {},
     "output_type": "execute_result"
    }
   ],
   "source": [
    "np.array(list(itertools.product([-1, 0, 1], [-1, 0, 1])))"
   ]
  },
  {
   "cell_type": "markdown",
   "id": "38ed2837-b1ef-46c6-add3-93961bb30c4d",
   "metadata": {},
   "source": [
    "The next step is to represent a transition function as a **black box simulator**.\n",
    "Note that we will visit another representation by **transition matrix**, but implementing the simulator is easier.\n",
    "Basically, the simulator should take an agent's action and current state, and then return the next state.\n",
    "Let's call this function `step`.\n",
    "However, let's make it return some other things to make the implementation easier.\n",
    "Reward function sounds fairly easy to implement given the agent's position.\n",
    "> The rewards are −1 for each step until the car crosses the finish line.\n",
    "\n",
    "Also, we have to handle the *termination* of the episode.\n",
    "> Each episode begins in one of the randomly selected start states with both velocity components zero and\n",
    "ends when the car crosses the finish line.\n",
    "\n",
    "So the resulting `step` function should return a tuple `(state, reward, termination)`.\n",
    "The below cell contains my implementation of the simulator with matplotlib visualization."
   ]
  },
  {
   "cell_type": "code",
   "execution_count": 124,
   "id": "6f7e4677-64f6-43dd-9ef1-f5ea7ca95918",
   "metadata": {},
   "outputs": [
    {
     "name": "stdout",
     "output_type": "stream",
     "text": [
      "State(position=array([4, 5]), velocity=array([0, 0]))\n"
     ]
    },
    {
     "data": {
      "image/png": "[encoded data removed]",
      "text/plain": [
       "<Figure size 576x576 with 1 Axes>"
      ]
     },
     "metadata": {},
     "output_type": "display_data"
    },
    {
     "name": "stdout",
     "output_type": "stream",
     "text": [
      "State(position=array([3, 5]), velocity=array([1, 0]))\n"
     ]
    },
    {
     "data": {
      "text/plain": [
       "<AxesSubplot:>"
      ]
     },
     "execution_count": 124,
     "metadata": {},
     "output_type": "execute_result"
    },
    {
     "data": {
      "image/png": "[encoded data removed]",
      "text/plain": [
       "<Figure size 576x576 with 1 Axes>"
      ]
     },
     "metadata": {},
     "output_type": "display_data"
    }
   ],
   "source": [
    "from typing import NamedTuple, Optional, Tuple\n",
    "\n",
    "from IPython.display import display\n",
    "from matplotlib import pyplot as plt\n",
    "from matplotlib.axes import Axes\n",
    "from matplotlib.colors import ListedColormap\n",
    "\n",
    "\n",
    "class State(NamedTuple):\n",
    "    position: np.ndarray\n",
    "    velocity: np.ndarray\n",
    "\n",
    "\n",
    "class RacetrackEnv:\n",
    "    EMPTY = int.from_bytes(b\" \", \"big\")\n",
    "    WALL = int.from_bytes(b\"#\", \"big\")\n",
    "    START = int.from_bytes(b\"S\", \"big\")\n",
    "    FINISH = int.from_bytes(b\"F\", \"big\")\n",
    "\n",
    "    def __init__(\n",
    "        self,\n",
    "        ascii_track: str,\n",
    "        noise_prob: float = 0.1,\n",
    "        seed: int = 0,\n",
    "    ) -> None:\n",
    "        self._track = ascii_to_array(ascii_track)\n",
    "        self._max_height, self._max_width = self._track.shape\n",
    "        self._noise_prob = noise_prob\n",
    "        self._actions = np.array(list(itertools.product([-1, 0, 1], [-1, 0, 1])))\n",
    "        self._no_accel = 4\n",
    "        self._random_state = np.random.RandomState(seed=seed)\n",
    "        self._start_positions = np.argwhere(self._track == self.START)\n",
    "        self._ax = None\n",
    "        self._agent_fig = None\n",
    "\n",
    "    def step(self, state: State, action: int) -> Tuple[State, float, bool]:\n",
    "        position, velocity = state\n",
    "        if self._random_state.rand() < self._noise_prob:\n",
    "            accel = self._actions[no_accel]\n",
    "        else:\n",
    "            accel = self._actions[action]\n",
    "        # velocity is clipped so that only ↑→ directions are possible\n",
    "        next_velocity = np.clip(velocity + accel, a_min=0, a_max=4)\n",
    "        # If both of velocity is 0, cancel the acceleration\n",
    "        if np.sum(next_velocity) == 0:\n",
    "            next_velocity = velocity\n",
    "        # y_velocity is flipped to adjust the coordinate system\n",
    "        next_position = position + next_velocity * np.array([-1, 1])\n",
    "        clipped_position = np.clip(\n",
    "            next_position,\n",
    "            a_min=0,\n",
    "            a_max=(self._max_height - 1, self._max_width - 1),\n",
    "        )\n",
    "        next_track = self._track[tuple(clipped_position)]\n",
    "        if next_track == self.FINISH:\n",
    "            # Goal!\n",
    "            return State(next_position, next_velocity), 0, True\n",
    "        elif (\n",
    "            next_position[0] >= self._max_height\n",
    "            or next_position[1] >= self._max_width\n",
    "            or next_track == self.WALL\n",
    "        ):\n",
    "            # Out of the track\n",
    "            return self.reset(), -1.0, False\n",
    "        else:\n",
    "            return State(next_position, next_velocity), -1, False\n",
    "\n",
    "    def reset(self) -> State:\n",
    "        n_starts = len(self._start_positions)\n",
    "        initial_pos_idx = self._random_state.choice(n_starts)\n",
    "        initial_pos = self._start_positions[initial_pos_idx]\n",
    "        initial_velocity = np.array([0, 0])\n",
    "        return State(initial_pos, initial_velocity)\n",
    "\n",
    "    def render(\n",
    "        self,\n",
    "        state: Optional[State] = None,\n",
    "        figsize: Tuple[float, float] = (8.0, 8.0),\n",
    "    ) -> Axes:\n",
    "        if self._ax is None:\n",
    "            figure = plt.figure(figsize=figsize)\n",
    "            ax = figure.add_subplot(111)\n",
    "            ax.set_aspect(\"equal\")\n",
    "            ax.set_xticks([])\n",
    "            ax.set_yticks([])\n",
    "            # Map the track to one of [0, 1, 2, 3] to that simple colormap works\n",
    "            map_array = np.zeros_like(track)\n",
    "            symbols = [self.EMPTY, self.WALL, self.START, self.FINISH]\n",
    "            for i in range(track.shape[0]):\n",
    "                for j in range(track.shape[1]):\n",
    "                    map_array[i, j] = symbols.index(self._track[i, j])\n",
    "            cm = ListedColormap(\n",
    "                [\"w\", \".75\", \"xkcd:reddish orange\", \"xkcd:kermit green\"]\n",
    "            )\n",
    "            map_img = ax.imshow(\n",
    "                map_array,\n",
    "                cmap=cm,\n",
    "                vmin=0,\n",
    "                vmax=4,\n",
    "                alpha=0.8,\n",
    "            )\n",
    "            descriptions = [\"Empty\", \"Wall\", \"Start\", \"Finish\"]\n",
    "            for i in range(1, 4):\n",
    "                if np.any(map_array == i):\n",
    "                    ax.plot([0.0], [0.0], color=cm(i), label=descriptions[i])\n",
    "            ax.legend(fontsize=12, loc=\"lower right\")\n",
    "            self._ax = ax\n",
    "        if state is not None:\n",
    "            if self._agent_fig is not None:\n",
    "                self._agent_fig.remove()\n",
    "            pos, vel = state\n",
    "            self._agent_fig = self._ax.plot(pos[1], pos[0], \"k^\", markersize=20)[0]\n",
    "            # Show velocity\n",
    "            self._ax.annotate(\n",
    "                \"\",\n",
    "                xy=(pos[1] + vel[1], pos[0] - vel[0]),\n",
    "                xycoords=\"data\",\n",
    "                xytext=(pos[1], pos[0]),\n",
    "                textcoords=\"data\",\n",
    "                arrowprops={\"color\": \"red\", \"alpha\": 0.6, \"width\": 2},\n",
    "            )\n",
    "        return self._ax\n",
    "\n",
    "\n",
    "env = RacetrackEnv(SMALL_TRACK)\n",
    "state = env.reset()\n",
    "print(state)\n",
    "display(env.render(state=state).get_figure())\n",
    "next_state, reward, termination = env.step(state, 7)\n",
    "print(next_state)\n",
    "env.render(state=next_state)"
   ]
  },
  {
   "cell_type": "markdown",
   "id": "02a70eba-2b57-4798-a541-1116a09a8651",
   "metadata": {},
   "source": [
    "Note that the vertical velocity is negative, so that we can simply represent the coordinate by an array index.\n",
    "\n",
    "## Solve a small problem by dynamic programming\n",
    "\n",
    "OK, now we have a simulator, so let's solve the problem!\n",
    "However, before stepping into reinforcement learning, it's better to compute an optimal policy in a small problem for sanity check.\n",
    "To do so, we need a transition matrix `p`, which is a $|\\mathcal{S}| \\times |\\mathcal{A}| \\times |\\mathcal{S}|$ NumPy array where `p[i][j][k]` is the probability of transiting from `i` to `k` when action `j` is taken.\n",
    "Also, we need a $|\\mathcal{S}| \\times |\\mathcal{A}| \\times |\\mathcal{S}|$ reward matrix `r`.\n",
    "Note that this representation is not general as $R_t$ can be stochastic, but since the only stochasticity of rewards is the noise to actions in this problem, this notion suffices.\n",
    "It is often not very straightforward to get `p` and `r` from the problem definition, but basically we need to give 0-indexd indices to each state (`0, 1, 2, ...`) and fill the array."
   ]
  },
  {
   "cell_type": "code",
   "execution_count": 137,
   "id": "45668f8f-2939-4af8-83a9-af0132735d43",
   "metadata": {},
   "outputs": [],
   "source": [
    "def get_p_and_r(env: RacetrackEnv) -> Tuple[np.ndarray, np.ndarray]:\n",
    "    velocities = list(itertools.product(range(5), range(5)))\n",
    "    state_indices = np.zeros((env._max_height, env._max_width, 5, 5), dtype=int)\n",
    "    states = []\n",
    "    current_state_idx = 0\n",
    "    starting_states = []\n",
    "    # Number all states\n",
    "    for y in range(env._max_height):\n",
    "        for x in range(env._max_width):\n",
    "            track = env._track[y][x]\n",
    "            if track == env.WALL:\n",
    "                continue\n",
    "            for y_velocity in range(5):\n",
    "                for x_velocity in range(5):\n",
    "                    # |v| == 0 is only allowed at starts\n",
    "                    if y_velocity == 0 and x_velocity == 0 and track != env.START:\n",
    "                        continue\n",
    "                    state_indices[y][x][y_velocity][x_velocity] = current_state_idx\n",
    "                    if track == env.START:\n",
    "                        starting_states.append(current_state_idx)\n",
    "                    current_state_idx += 1\n",
    "                    states.append(\n",
    "                        State(np.array([y, x]), np.array([y_velocity, x_velocity]))\n",
    "                    )\n",
    "    # Terminating state\n",
    "    n_states = len(states)\n",
    "    n_actions = len(env._actions)\n",
    "    p = np.zeros((n_states, n_actions, n_states))\n",
    "    r = np.ones((n_states, n_actions, n_states)) * -1\n",
    "    noise = env._noise_prob\n",
    "\n",
    "    def state_prob(*indices):\n",
    "        \"\"\"Returns a |S| length zero-initialized array where specified elements are filled\"\"\"\n",
    "        prob = 1.0 / len(indices)\n",
    "        res = np.zeros(n_states)\n",
    "        for idx in indices:\n",
    "            res[idx] = prob\n",
    "        return res\n",
    "\n",
    "    for i, state in enumerate(states[:-1]):\n",
    "        position, velocity = state\n",
    "        # At a terminating state, the agent cannot move\n",
    "        if env._track[tuple(position)] == env.FINISH:\n",
    "            for j in range(n_actions):\n",
    "                p[i][j] = state_prob(i)\n",
    "            continue\n",
    "        # First, compute next state probs without noise\n",
    "        next_state_prob = []\n",
    "        for j, action in enumerate(env._actions):\n",
    "            next_velocity = np.clip(velocity + action, a_min=0, a_max=4)\n",
    "            if np.sum(next_velocity) == 0:\n",
    "                next_velocity = velocity\n",
    "            next_position = position + next_velocity * np.array([-1, 1])\n",
    "            clipped_position = np.clip(\n",
    "                next_position,\n",
    "                a_min=0,\n",
    "                a_max=(env._max_height - 1, env._max_width - 1),\n",
    "            )\n",
    "            next_track = env._track[tuple(clipped_position)]\n",
    "            if (\n",
    "                next_position[0] >= env._max_height\n",
    "                or next_position[1] >= env._max_width\n",
    "                or next_track == env.WALL\n",
    "            ):\n",
    "                next_state_prob.append(state_prob(*starting_states))\n",
    "            else:\n",
    "                ny, nx = next_position\n",
    "                nvy, nvx = next_velocity\n",
    "                next_state_idx = state_indices[ny, nx, nvy, nvx]\n",
    "                next_state_prob.append(state_prob(next_state_idx))\n",
    "                # Reward is 0.0 when the episode finishes\n",
    "                if next_track == env.FINISH:\n",
    "                    r[i][j][next_state_idx] = 0.0\n",
    "        # Then linearly mix the transition probs with noise\n",
    "        for j in range(n_actions):\n",
    "            p[i][j] = noise * next_state_prob[env._no_accel] + (1.0 - noise) * next_state_prob[j]\n",
    "    \n",
    "    return p, r"
   ]
  },
  {
   "cell_type": "markdown",
   "id": "6ac08e4e-debf-4a51-90eb-f74b07691b98",
   "metadata": {},
   "source": [
    "Then, let's compute the optimal Q value by value iteration.\n",
    "So far, we only learned dynamic programming by "
   ]
  },
  {
   "cell_type": "code",
   "execution_count": null,
   "id": "6739f4e7-3cb6-4255-9839-fb402d94b190",
   "metadata": {},
   "outputs": [],
   "source": [
    "def value_iteration(p: np.ndaray, r: np.ndarray, max_steps, discount, convergence_threshold=0.05):\n",
    "    n_states, n_actions = r.shape\n",
    "    q = np.zeros_like(r)\n",
    "    v = np.zeros(r.shape[0])\n",
    "\n",
    "    for i in range(max_steps):\n",
    "        v_old = v.copy()\n",
    "        for s in range(n_states):\n",
    "            q[s] = r[s] + discount * p[s].dot(v)\n",
    "            v[s] = q[s].max()\n",
    "        diff = np.abs(v_old - v).mean()\n",
    "        if diff < convergence_threshold:\n",
    "            break\n",
    "    return q, v"
   ]
  }
 ],
 "metadata": {
  "kernelspec": {
   "display_name": "Python 3 (ipykernel)",
   "language": "python",
   "name": "python3"
  },
  "language_info": {
   "codemirror_mode": {
    "name": "ipython",
    "version": 3
   },
   "file_extension": ".py",
   "mimetype": "text/x-python",
   "name": "python",
   "nbconvert_exporter": "python",
   "pygments_lexer": "ipython3",
   "version": "3.10.2"
  }
 },
 "nbformat": 4,
 "nbformat_minor": 5
}
